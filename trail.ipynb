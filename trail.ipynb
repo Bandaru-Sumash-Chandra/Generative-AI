{
  "nbformat": 4,
  "nbformat_minor": 0,
  "metadata": {
    "colab": {
      "provenance": []
    },
    "kernelspec": {
      "name": "python3",
      "display_name": "Python 3"
    },
    "language_info": {
      "name": "python"
    }
  },
  "cells": [
    {
      "cell_type": "code",
      "execution_count": null,
      "metadata": {
        "id": "HIu3mjThiXwk"
      },
      "outputs": [],
      "source": []
    },
    {
      "cell_type": "markdown",
      "source": [
        "<b> Objective: </b> <p> The objective of this worksheet is to introduce participants to the principles and techniques of sentiment analysis, a key component of natural language processing. Participants will learn how to analyze textual data to determine the underlying sentiment, whether positive, negative, or neutral. Through interactive exercises and real-world examples, this worksheet aims to equip learners with the skills necessary to apply sentiment analysis in various contexts such as social media monitoring, customer feedback, market research, and more, enhancing their ability to extract valuable insights from text. </p>"
      ],
      "metadata": {
        "id": "NRkaXUaBihKE"
      }
    },
    {
      "cell_type": "markdown",
      "source": [
        "**Introduction** : Sentiment Analysis is a process to know or guess the emotion behind the text. It is a part of Natural Language Processing (NLP). It catagorizes a text into **3** emotions :\n",
        "\n",
        "*  **Positive**  (*Joy, Pleasure, Enthusiasm, Amusement, Hope, Inspiration, Love*).*italicized text*\n",
        "* **Negative** (*sad, criticism, Anger, Fear, Sadness, Jealousy, Disgust, Frustration, Guilt, Shame* ).\n",
        "* **Neutral** (*Confusion*).\n"
      ],
      "metadata": {
        "id": "vM2L5n5Pil1c"
      }
    },
    {
      "cell_type": "code",
      "source": [
        "pip install transformers"
      ],
      "metadata": {
        "id": "Wz3rJOFHijIs"
      },
      "execution_count": null,
      "outputs": []
    },
    {
      "cell_type": "code",
      "source": [
        "pip install tensorflow"
      ],
      "metadata": {
        "id": "h--uLYshiuHQ"
      },
      "execution_count": null,
      "outputs": []
    },
    {
      "cell_type": "code",
      "source": [
        "from transformers import pipeline"
      ],
      "metadata": {
        "id": "Y-YX_t-fivlI"
      },
      "execution_count": null,
      "outputs": []
    },
    {
      "cell_type": "code",
      "source": [
        "classifier = pipeline(\"sentiment-analysis\")"
      ],
      "metadata": {
        "id": "tvrCnoflixWo"
      },
      "execution_count": null,
      "outputs": []
    },
    {
      "cell_type": "code",
      "source": [
        "input_sentence = input(\"Enter your input here: \")"
      ],
      "metadata": {
        "id": "lfQDdRJ2izQi"
      },
      "execution_count": null,
      "outputs": []
    },
    {
      "cell_type": "code",
      "source": [
        "sentiment = classifier(input_sentence)"
      ],
      "metadata": {
        "id": "bd7y0rF0i0uA"
      },
      "execution_count": null,
      "outputs": []
    },
    {
      "cell_type": "code",
      "source": [
        "print(sentiment)"
      ],
      "metadata": {
        "id": "UvZkXMYzi1_8"
      },
      "execution_count": null,
      "outputs": []
    },
    {
      "cell_type": "code",
      "source": [
        "data = [\"I love you\", \"I hate you\"]\n",
        "print(classifier(data))"
      ],
      "metadata": {
        "id": "X720-inJi3FQ"
      },
      "execution_count": null,
      "outputs": []
    },
    {
      "cell_type": "code",
      "source": [],
      "metadata": {
        "id": "qItHqkeMi3Hl"
      },
      "execution_count": null,
      "outputs": []
    },
    {
      "cell_type": "code",
      "source": [],
      "metadata": {
        "id": "4mpdWW6Ki3J8"
      },
      "execution_count": null,
      "outputs": []
    },
    {
      "cell_type": "code",
      "source": [],
      "metadata": {
        "id": "QxEgJaHFi3Nj"
      },
      "execution_count": null,
      "outputs": []
    }
  ]
}